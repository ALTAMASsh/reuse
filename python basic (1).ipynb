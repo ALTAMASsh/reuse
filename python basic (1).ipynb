{
 "cells": [
  {
   "cell_type": "code",
   "execution_count": 8,
   "id": "9b7bfa6e-66b5-4948-b4d1-0184ef30726f",
   "metadata": {},
   "outputs": [
    {
     "name": "stdout",
     "output_type": "stream",
     "text": [
      "12 9\n"
     ]
    }
   ],
   "source": [
    "x = 9\n",
    "y =12\n",
    "\n",
    "x,y = y,x\n",
    "print( x , y)"
   ]
  },
  {
   "cell_type": "code",
   "execution_count": 33,
   "id": "18bb9f2f-7818-4729-bce4-8b2be6ad4465",
   "metadata": {},
   "outputs": [
    {
     "name": "stdin",
     "output_type": "stream",
     "text": [
      "Enter the lenghth 34\n",
      "Enter the width 23\n"
     ]
    },
    {
     "name": "stdout",
     "output_type": "stream",
     "text": [
      "782.0\n"
     ]
    }
   ],
   "source": [
    "# length * width = area\n",
    "\n",
    "length = float(input(\"Enter the lenghth\"))\n",
    "width = float(input(\"Enter the width\"))\n",
    "\n",
    "print( length * width)\n"
   ]
  },
  {
   "cell_type": "code",
   "execution_count": null,
   "id": "d0436fcc-04b2-4bcd-8dc9-bed1344eb23a",
   "metadata": {},
   "outputs": [],
   "source": [
    "c = float (input ('enter the  temprature in celsius'))\n",
    "f = (c*9/5 )+32\n",
    "print('tempature in fahrenheit is f',f)"
   ]
  },
  {
   "cell_type": "code",
   "execution_count": null,
   "id": "f8ef8ed6-7430-4f8e-800a-fe364b14a2d9",
   "metadata": {},
   "outputs": [],
   "source": []
  }
 ],
 "metadata": {
  "kernelspec": {
   "display_name": "Python 3 (ipykernel)",
   "language": "python",
   "name": "python3"
  },
  "language_info": {
   "codemirror_mode": {
    "name": "ipython",
    "version": 3
   },
   "file_extension": ".py",
   "mimetype": "text/x-python",
   "name": "python",
   "nbconvert_exporter": "python",
   "pygments_lexer": "ipython3",
   "version": "3.10.8"
  }
 },
 "nbformat": 4,
 "nbformat_minor": 5
}
